{
 "cells": [
  {
   "cell_type": "code",
   "execution_count": 1,
   "metadata": {},
   "outputs": [],
   "source": [
    "from selenium import webdriver\n",
    "from selenium.webdriver.common.keys import Keys\n",
    "from selenium.webdriver.common.by import By\n",
    "from selenium import webdriver\n",
    "from selenium.webdriver.common.by import By\n",
    "import time\n",
    "import pandas as pd"
   ]
  },
  {
   "cell_type": "code",
   "execution_count": 22,
   "metadata": {},
   "outputs": [
    {
     "name": "stdout",
     "output_type": "stream",
     "text": [
      "Element not found for page 5, scrap 14\n",
      "Element not found for page 5, scrap 15\n",
      "Element not found for page 5, scrap 16\n",
      "Element not found for page 5, scrap 17\n",
      "Element not found for page 5, scrap 18\n",
      "Element not found for page 5, scrap 19\n",
      "Element not found for page 5, scrap 20\n",
      "Element not found for page 5, scrap 21\n",
      "Element not found for page 5, scrap 22\n",
      "Element not found for page 17, scrap 12\n",
      "Element not found for page 17, scrap 13\n",
      "Element not found for page 17, scrap 14\n",
      "Element not found for page 17, scrap 15\n",
      "Element not found for page 17, scrap 16\n",
      "Element not found for page 17, scrap 17\n",
      "Element not found for page 17, scrap 18\n",
      "Element not found for page 17, scrap 19\n",
      "Element not found for page 17, scrap 20\n",
      "Element not found for page 17, scrap 21\n",
      "Element not found for page 17, scrap 22\n",
      "Element not found for page 17, scrap 23\n",
      "Element not found for page 17, scrap 24\n",
      "Element not found for page 17, scrap 25\n"
     ]
    }
   ],
   "source": [
    "from selenium import webdriver\n",
    "from selenium.webdriver.common.by import By\n",
    "from selenium.common.exceptions import NoSuchElementException\n",
    "import pandas as pd\n",
    "import time\n",
    "\n",
    "driver = webdriver.Firefox()\n",
    "\n",
    "title_list = []\n",
    "project_list = []\n",
    "price_list = []\n",
    "time_list = []\n",
    "\n",
    "try:\n",
    "    for num in range(1, 18):\n",
    "        driver.get(f'https://mostaql.com/projects?page={num}&category=marketing&budget_max=10000&sort=latest')\n",
    "        for scrap in range(1, 26):\n",
    "            try:\n",
    "                row = driver.find_element(By.XPATH, f'(//h2)[{scrap}]')\n",
    "                link = row.find_element(By.XPATH, './a')\n",
    "                link.click()\n",
    "\n",
    "                time.sleep(2)\n",
    "\n",
    "                # Fetch project details\n",
    "                title = driver.find_element(By.TAG_NAME, 'h1').text\n",
    "                project = driver.find_element(By.XPATH, '//*[@id=\"project-brief-panel\"]').text\n",
    "                price = driver.find_element(By.CSS_SELECTOR, '#project-meta-panel > div:nth-child(1) > table > tbody > tr:nth-child(3) > td:nth-child(2) > span').text\n",
    "                time_value = driver.find_element(By.CSS_SELECTOR, '#project-meta-panel > div:nth-child(1) > table > tbody > tr:nth-child(4) > td:nth-child(2)').text\n",
    "                title_list.append(title)\n",
    "                project_list.append(project)\n",
    "                price_list.append(price)\n",
    "                time_list.append(time_value)\n",
    "                \n",
    "                # Go back to the main page\n",
    "                driver.back()\n",
    "\n",
    "            except NoSuchElementException:\n",
    "                # Handle the case where the element is not found on the page\n",
    "                print(f'Element not found for page {num}, scrap {scrap}')\n",
    "\n",
    "finally:\n",
    "    # Create DataFrame outside the loop\n",
    "    data = {'title': title_list, 'project': project_list, 'price': price_list, 'time': time_list}\n",
    "    df = pd.DataFrame(data)\n",
    "    driver.quit()\n"
   ]
  },
  {
   "cell_type": "code",
   "execution_count": 23,
   "metadata": {},
   "outputs": [
    {
     "data": {
      "text/html": [
       "<div>\n",
       "<style scoped>\n",
       "    .dataframe tbody tr th:only-of-type {\n",
       "        vertical-align: middle;\n",
       "    }\n",
       "\n",
       "    .dataframe tbody tr th {\n",
       "        vertical-align: top;\n",
       "    }\n",
       "\n",
       "    .dataframe thead th {\n",
       "        text-align: right;\n",
       "    }\n",
       "</style>\n",
       "<table border=\"1\" class=\"dataframe\">\n",
       "  <thead>\n",
       "    <tr style=\"text-align: right;\">\n",
       "      <th></th>\n",
       "      <th>title</th>\n",
       "      <th>project</th>\n",
       "      <th>price</th>\n",
       "      <th>time</th>\n",
       "    </tr>\n",
       "  </thead>\n",
       "  <tbody>\n",
       "    <tr>\n",
       "      <th>0</th>\n",
       "      <td>كتابة محتوى ومنشورات تويتر ولينكدان</td>\n",
       "      <td>مطلوب مستقل يعمل على تصميم وكتابة محتوى لعدد 1...</td>\n",
       "      <td>$50.00 - $100.00</td>\n",
       "      <td>10 أيام</td>\n",
       "    </tr>\n",
       "    <tr>\n",
       "      <th>1</th>\n",
       "      <td>كتابة محتوى أجندة لمذكرة شخصية</td>\n",
       "      <td>خطة تصميم وتأليف الأجندة\\nالغلاف والصفحات الأو...</td>\n",
       "      <td>$100.00 - $250.00</td>\n",
       "      <td>60 يوما</td>\n",
       "    </tr>\n",
       "    <tr>\n",
       "      <th>2</th>\n",
       "      <td>تسويق عبر البريد الإلكتروني</td>\n",
       "      <td>السلام عليكم ورحمة الله وبركاته\\nلدي منصة تم إ...</td>\n",
       "      <td>$50.00 - $100.00</td>\n",
       "      <td>7 أيام</td>\n",
       "    </tr>\n",
       "    <tr>\n",
       "      <th>3</th>\n",
       "      <td>خطة تسويق بالمحتوى ومنشورات دورية عبر اللينكدان</td>\n",
       "      <td>خطة تسويق بالمحتوى ومنشورات دورية 15 منشورا، ت...</td>\n",
       "      <td>$25.00 - $50.00</td>\n",
       "      <td>7 أيام</td>\n",
       "    </tr>\n",
       "    <tr>\n",
       "      <th>4</th>\n",
       "      <td>مطلوب مسوق رقمي لإدارة منصات السوشيال ميديا با...</td>\n",
       "      <td>مطلوب شخص لديه القدرة بالعمل بدوام كامل عن بعد...</td>\n",
       "      <td>$100.00 - $250.00</td>\n",
       "      <td>30 يوما</td>\n",
       "    </tr>\n",
       "  </tbody>\n",
       "</table>\n",
       "</div>"
      ],
      "text/plain": [
       "                                               title  \\\n",
       "0                كتابة محتوى ومنشورات تويتر ولينكدان   \n",
       "1                     كتابة محتوى أجندة لمذكرة شخصية   \n",
       "2                        تسويق عبر البريد الإلكتروني   \n",
       "3    خطة تسويق بالمحتوى ومنشورات دورية عبر اللينكدان   \n",
       "4  مطلوب مسوق رقمي لإدارة منصات السوشيال ميديا با...   \n",
       "\n",
       "                                             project              price  \\\n",
       "0  مطلوب مستقل يعمل على تصميم وكتابة محتوى لعدد 1...   $50.00 - $100.00   \n",
       "1  خطة تصميم وتأليف الأجندة\\nالغلاف والصفحات الأو...  $100.00 - $250.00   \n",
       "2  السلام عليكم ورحمة الله وبركاته\\nلدي منصة تم إ...   $50.00 - $100.00   \n",
       "3  خطة تسويق بالمحتوى ومنشورات دورية 15 منشورا، ت...    $25.00 - $50.00   \n",
       "4  مطلوب شخص لديه القدرة بالعمل بدوام كامل عن بعد...  $100.00 - $250.00   \n",
       "\n",
       "      time  \n",
       "0  10 أيام  \n",
       "1  60 يوما  \n",
       "2   7 أيام  \n",
       "3   7 أيام  \n",
       "4  30 يوما  "
      ]
     },
     "execution_count": 23,
     "metadata": {},
     "output_type": "execute_result"
    }
   ],
   "source": [
    "df.head()"
   ]
  },
  {
   "cell_type": "code",
   "execution_count": 25,
   "metadata": {},
   "outputs": [
    {
     "data": {
      "text/plain": [
       "(402, 4)"
      ]
     },
     "execution_count": 25,
     "metadata": {},
     "output_type": "execute_result"
    }
   ],
   "source": [
    "df.shape"
   ]
  },
  {
   "cell_type": "code",
   "execution_count": 26,
   "metadata": {},
   "outputs": [],
   "source": [
    "df.to_csv('mostaql.csv')"
   ]
  }
 ],
 "metadata": {
  "kernelspec": {
   "display_name": "Python 3",
   "language": "python",
   "name": "python3"
  },
  "language_info": {
   "codemirror_mode": {
    "name": "ipython",
    "version": 3
   },
   "file_extension": ".py",
   "mimetype": "text/x-python",
   "name": "python",
   "nbconvert_exporter": "python",
   "pygments_lexer": "ipython3",
   "version": "3.11.4"
  }
 },
 "nbformat": 4,
 "nbformat_minor": 2
}
